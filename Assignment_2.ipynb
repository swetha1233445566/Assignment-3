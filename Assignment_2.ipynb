{
  "cells": [
    {
      "cell_type": "raw",
      "id": "144f8dd9",
      "metadata": {
        "id": "144f8dd9"
      },
      "source": [
        "1 . Print the input text without vowels\n",
        "\n",
        "input = 'hai'\n",
        "\n",
        "Expected output = h"
      ]
    },
    {
      "cell_type": "code",
      "execution_count": 59,
      "id": "cf1f9ca7",
      "metadata": {
        "id": "cf1f9ca7",
        "outputId": "8fb241b8-c560-4acf-eb9d-273d6c74737a",
        "colab": {
          "base_uri": "https://localhost:8080/"
        }
      },
      "outputs": [
        {
          "output_type": "stream",
          "name": "stdout",
          "text": [
            "h\n"
          ]
        }
      ],
      "source": [
        "a = 'hai'\n",
        "b = ''.join(char for char in a if char.lower() not in 'aeiou')\n",
        "print(b)\n",
        "\n",
        "\n"
      ]
    },
    {
      "cell_type": "raw",
      "id": "9f0cbac6",
      "metadata": {
        "id": "9f0cbac6"
      },
      "source": [
        "2 . Print only vowels from the text\n",
        "\n",
        "input = data\n",
        "\n",
        "Expected output = dt"
      ]
    },
    {
      "cell_type": "markdown",
      "source": [],
      "metadata": {
        "id": "FaJo4SqwOqIk"
      },
      "id": "FaJo4SqwOqIk"
    },
    {
      "cell_type": "code",
      "execution_count": 60,
      "id": "a6c81c61",
      "metadata": {
        "id": "a6c81c61",
        "outputId": "cb322510-d97f-4082-d9bd-ba98831b9316",
        "colab": {
          "base_uri": "https://localhost:8080/"
        }
      },
      "outputs": [
        {
          "output_type": "stream",
          "name": "stdout",
          "text": [
            "aa\n"
          ]
        }
      ],
      "source": [
        "a='data'\n",
        "b=''.join (char for char in a if char.lower()in 'aeiou')\n",
        "print(b)"
      ]
    },
    {
      "cell_type": "raw",
      "id": "6cbfe6e1",
      "metadata": {
        "id": "6cbfe6e1"
      },
      "source": [
        "3 . print each valu from the list with its index\n",
        "\n",
        "\n",
        "input = [10,11,50,34]\n",
        "\n",
        "Expected output = [100 , 111 , 502 , 343]"
      ]
    },
    {
      "cell_type": "code",
      "execution_count": null,
      "id": "d92cb8a3",
      "metadata": {
        "id": "d92cb8a3"
      },
      "outputs": [],
      "source": []
    },
    {
      "cell_type": "raw",
      "id": "de670ddc",
      "metadata": {
        "id": "de670ddc"
      },
      "source": [
        "4 . This is a Python Program to print all integers that aren’t divisible by either 2 or 3 and lies between 1 and 50."
      ]
    },
    {
      "cell_type": "code",
      "execution_count": 32,
      "id": "bf365d80",
      "metadata": {
        "id": "bf365d80",
        "outputId": "21dd5dc3-359c-48ef-bac4-326a628ecdc2",
        "colab": {
          "base_uri": "https://localhost:8080/"
        }
      },
      "outputs": [
        {
          "output_type": "stream",
          "name": "stdout",
          "text": [
            "1\n",
            "5\n",
            "7\n",
            "11\n",
            "13\n",
            "17\n",
            "19\n",
            "23\n",
            "25\n",
            "29\n",
            "31\n",
            "35\n",
            "37\n",
            "41\n",
            "43\n",
            "47\n",
            "49\n"
          ]
        }
      ],
      "source": [
        "for i in range(1,50):\n",
        "  if i % 2!=0 and i % 3!=0:\n",
        "     print(i)\n"
      ]
    },
    {
      "cell_type": "raw",
      "id": "9f9b54af",
      "metadata": {
        "id": "9f9b54af"
      },
      "source": [
        "5 . The program takes in an integer and prints the smallest divisor of the integer."
      ]
    },
    {
      "cell_type": "code",
      "execution_count": null,
      "id": "087e8e4b",
      "metadata": {
        "id": "087e8e4b"
      },
      "outputs": [],
      "source": []
    },
    {
      "cell_type": "raw",
      "id": "fe7c7e96",
      "metadata": {
        "id": "fe7c7e96"
      },
      "source": [
        "6 . Write a Python program to check if it is a strong number or not ."
      ]
    },
    {
      "cell_type": "code",
      "source": [
        "a=153\n",
        "temp=a\n",
        "check=0\n",
        "while a>0:\n",
        "  res=a%10\n",
        "  check=check+(res*res*res)\n",
        "  a=\n"
      ],
      "metadata": {
        "id": "P_KFxDH384dp"
      },
      "id": "P_KFxDH384dp",
      "execution_count": null,
      "outputs": []
    },
    {
      "cell_type": "raw",
      "id": "6fccfd65",
      "metadata": {
        "id": "6fccfd65"
      },
      "source": [
        "7 . Write a Python program that takes input from the user and displays that input back in upper and lower cases."
      ]
    },
    {
      "cell_type": "code",
      "execution_count": 14,
      "id": "9c85b4a6",
      "metadata": {
        "id": "9c85b4a6",
        "outputId": "76c855a3-c733-4da7-e845-019fccae0d53",
        "colab": {
          "base_uri": "https://localhost:8080/"
        }
      },
      "outputs": [
        {
          "output_type": "stream",
          "name": "stdout",
          "text": [
            "DATA SCIENCE\n"
          ]
        }
      ],
      "source": [
        "a='data science'\n",
        "print(a.upper())"
      ]
    },
    {
      "cell_type": "code",
      "source": [
        "a='DATA SCIENCE'\n",
        "print(a.lower())"
      ],
      "metadata": {
        "id": "NX2AfBIU9Ir7",
        "outputId": "587b968f-e1c1-4b91-a26c-b075cd560f11",
        "colab": {
          "base_uri": "https://localhost:8080/"
        }
      },
      "id": "NX2AfBIU9Ir7",
      "execution_count": 15,
      "outputs": [
        {
          "output_type": "stream",
          "name": "stdout",
          "text": [
            "data science\n"
          ]
        }
      ]
    },
    {
      "cell_type": "raw",
      "id": "8e92ebb5",
      "metadata": {
        "id": "8e92ebb5"
      },
      "source": [
        "8 . Write a Python program to remove spaces from a given string\n",
        "\n",
        "input = united states\n",
        "output = unitedstates"
      ]
    },
    {
      "cell_type": "code",
      "execution_count": 33,
      "id": "5d8f2f1b",
      "metadata": {
        "id": "5d8f2f1b"
      },
      "outputs": [],
      "source": [
        "a=\"united states\"\n",
        "def remove_spaces(a):\n",
        "  print(a)\n"
      ]
    },
    {
      "cell_type": "raw",
      "id": "0b1bc8da",
      "metadata": {
        "id": "0b1bc8da"
      },
      "source": [
        "9 . Write a Python program to capitalize first and last letters of each word of a given string."
      ]
    },
    {
      "cell_type": "code",
      "execution_count": 42,
      "id": "0642e4ef",
      "metadata": {
        "id": "0642e4ef",
        "outputId": "036a2217-fdc4-410f-80b7-cc09f903daf8",
        "colab": {
          "base_uri": "https://localhost:8080/"
        }
      },
      "outputs": [
        {
          "output_type": "stream",
          "name": "stdout",
          "text": [
            "I Am From India\n"
          ]
        }
      ],
      "source": [
        "a= 'i am from india'\n",
        "a=a.title()\n",
        "print(a)"
      ]
    },
    {
      "cell_type": "raw",
      "id": "77b5cd36",
      "metadata": {
        "id": "77b5cd36"
      },
      "source": [
        "10 . write a python program to find length of a string but should not use len keyword"
      ]
    },
    {
      "cell_type": "code",
      "execution_count": 38,
      "id": "4926f802",
      "metadata": {
        "id": "4926f802",
        "outputId": "d20770db-6899-4a83-b4fb-53eb4223eea7",
        "colab": {
          "base_uri": "https://localhost:8080/"
        }
      },
      "outputs": [
        {
          "output_type": "stream",
          "name": "stdout",
          "text": [
            "6\n"
          ]
        }
      ],
      "source": [
        "a='python'\n",
        "count=0\n",
        "for i in a:\n",
        "  count=count+1\n",
        "print(count)"
      ]
    }
  ],
  "metadata": {
    "kernelspec": {
      "display_name": "Python 3 (ipykernel)",
      "language": "python",
      "name": "python3"
    },
    "language_info": {
      "codemirror_mode": {
        "name": "ipython",
        "version": 3
      },
      "file_extension": ".py",
      "mimetype": "text/x-python",
      "name": "python",
      "nbconvert_exporter": "python",
      "pygments_lexer": "ipython3",
      "version": "3.11.5"
    },
    "colab": {
      "provenance": []
    }
  },
  "nbformat": 4,
  "nbformat_minor": 5
}